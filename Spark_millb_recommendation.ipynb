{
 "cells": [
  {
   "cell_type": "code",
   "execution_count": null,
   "metadata": {},
   "outputs": [
    {
     "name": "stdout",
     "output_type": "stream",
     "text": [
      "196\t242\t3\t881250949\n"
     ]
    }
   ],
   "source": [
    "from pyspark import SparkContext\n",
    "import matplotlib\n",
    "#ALS is a matrix decomposition\n",
    "from  pyspark.mllib.recommendation import ALS\n",
    "sc = SparkContext(\"local[1]\",\"My text\")\n",
    "data = sc.textFile(\"ml-100k/u.data\")\n",
    "print(data.first())"
   ]
  },
  {
   "cell_type": "code",
   "execution_count": 4,
   "metadata": {},
   "outputs": [
    {
     "name": "stdout",
     "output_type": "stream",
     "text": [
      "(u'196', u'242', u'3')\n"
     ]
    }
   ],
   "source": [
    "rawRatings = data.map(lambda record :record.split('\\t')).map(lambda record:(record[0],record[1],record[2]))\n",
    "print(rawRatings.first())"
   ]
  },
  {
   "cell_type": "code",
   "execution_count": 6,
   "metadata": {},
   "outputs": [
    {
     "name": "stdout",
     "output_type": "stream",
     "text": [
      "<pyspark.mllib.recommendation.MatrixFactorizationModel object at 0x7f9c8b6b1b10>\n"
     ]
    }
   ],
   "source": [
    "#this train is the Explicit train ,another way is the Implicit trainImplicit\n",
    "model = ALS.train(rawRatings,10,10,0.1)\n",
    "print(model)"
   ]
  },
  {
   "cell_type": "code",
   "execution_count": 7,
   "metadata": {},
   "outputs": [
    {
     "data": {
      "text/plain": [
       "2.6290556950040815"
      ]
     },
     "execution_count": 7,
     "metadata": {},
     "output_type": "execute_result"
    }
   ],
   "source": [
    "model.predict(666,957)"
   ]
  },
  {
   "cell_type": "code",
   "execution_count": 8,
   "metadata": {},
   "outputs": [
    {
     "data": {
      "text/plain": [
       "[Rating(user=666, product=1449, rating=4.761182699242415),\n",
       " Rating(user=666, product=1642, rating=4.537461076533329),\n",
       " Rating(user=666, product=1398, rating=4.466857155865764),\n",
       " Rating(user=666, product=1643, rating=4.4546740258403155),\n",
       " Rating(user=666, product=119, rating=4.3885679501144415)]"
      ]
     },
     "execution_count": 8,
     "metadata": {},
     "output_type": "execute_result"
    }
   ],
   "source": [
    "model.recommendProducts(666,5)"
   ]
  },
  {
   "cell_type": "code",
   "execution_count": 9,
   "metadata": {},
   "outputs": [
    {
     "data": {
      "text/plain": [
       "[Rating(user=810, product=957, rating=3.2371714530854945),\n",
       " Rating(user=770, product=957, rating=3.233474387376158),\n",
       " Rating(user=4, product=957, rating=3.1784173543805183),\n",
       " Rating(user=717, product=957, rating=3.1537911752350913),\n",
       " Rating(user=174, product=957, rating=3.1341053731860926)]"
      ]
     },
     "execution_count": 9,
     "metadata": {},
     "output_type": "execute_result"
    }
   ],
   "source": [
    "model.recommendUsers(957,5)"
   ]
  },
  {
   "cell_type": "code",
   "execution_count": 10,
   "metadata": {},
   "outputs": [
    {
     "name": "stdout",
     "output_type": "stream",
     "text": [
      "1|Toy Story (1995)|01-Jan-1995||http://us.imdb.com/M/title-exact?Toy%20Story%20(1995)|0|0|0|1|1|1|0|0|0|0|0|0|0|0|0|0|0|0|0\n"
     ]
    }
   ],
   "source": [
    "itemRDD = sc.textFile(\"ml-100k/u.item\")\n",
    "print(itemRDD.first())"
   ]
  },
  {
   "cell_type": "code",
   "execution_count": 11,
   "metadata": {},
   "outputs": [
    {
     "name": "stdout",
     "output_type": "stream",
     "text": [
      "GoldenEye (1995)\n"
     ]
    }
   ],
   "source": [
    "movieTitle = itemRDD.map(lambda record:record.split('|')).map(lambda record:(int(record[0]),record[1])).collectAsMap()\n",
    "print(movieTitle[2])"
   ]
  },
  {
   "cell_type": "code",
   "execution_count": 12,
   "metadata": {},
   "outputs": [
    {
     "name": "stdout",
     "output_type": "stream",
     "text": [
      "the movie name is :Pather Panchali (1955)and the score is :4.76118269924\n",
      "\n",
      "the movie name is :Some Mother's Son (1996)and the score is :4.53746107653\n",
      "\n",
      "the movie name is :Anna (1996)and the score is :4.46685715587\n",
      "\n",
      "the movie name is :Angel Baby (1995)and the score is :4.45467402584\n",
      "\n",
      "the movie name is :Maya Lin: A Strong Clear Vision (1994)and the score is :4.38856795011\n",
      "\n"
     ]
    }
   ],
   "source": [
    "movieIP = model.recommendProducts(666,5)\n",
    "for ip in movieIP:\n",
    "    print(\"the movie name is :\"+movieTitle[ip[1]]+\"and the score is :\"+str(ip[2])+\"\\n\")"
   ]
  },
  {
   "cell_type": "code",
   "execution_count": 13,
   "metadata": {},
   "outputs": [
    {
     "name": "stdout",
     "output_type": "stream",
     "text": [
      "0.9999999999999999\n",
      "<bound method MatrixFactorizationModel.productFeatures of <pyspark.mllib.recommendation.MatrixFactorizationModel object at 0x7f9c8b6b1b10>>\n"
     ]
    }
   ],
   "source": [
    "import numpy as np\n",
    "#similar cosine\n",
    "def Similarity(Vector1,Vector2):\n",
    "    Vec1 = np.mat(Vector1)\n",
    "    Vec2 = np.mat(Vector2)\n",
    "    num = float(Vec1*Vec2.T)\n",
    "    denom = np.linalg.norm(Vec1)*np.linalg.norm(Vec2)\n",
    "    cos = num/denom\n",
    "    return 0.5+0.5*cos\n",
    "print(Similarity((1,1,0),(1,1,0)))\n",
    "#Extraction vector factor,but I do not know how to get a specific vector\n",
    "print(model.productFeatures)"
   ]
  },
  {
   "cell_type": "code",
   "execution_count": 14,
   "metadata": {},
   "outputs": [
    {
     "name": "stdout",
     "output_type": "stream",
     "text": [
      "[(1, 61, 4), (1, 189, 3), (1, 33, 4), (1, 160, 4), (1, 20, 4)]\n"
     ]
    }
   ],
   "source": [
    "ratings = data.map(lambda record :record.split('\\t')).map(lambda record:(int(record[0]),int(record[1]),int(record[2]))).sortByKey(True,1)\n",
    "print(ratings.take(5))"
   ]
  },
  {
   "cell_type": "code",
   "execution_count": 15,
   "metadata": {},
   "outputs": [
    {
     "name": "stdout",
     "output_type": "stream",
     "text": [
      "[(700, 181, 5), (700, 144, 4), (700, 96, 4), (700, 50, 5), (700, 79, 3), (700, 180, 3), (700, 168, 3), (700, 28, 3), (700, 222, 3), (700, 531, 4)]\n"
     ]
    }
   ],
   "source": [
    "#select all the  movies which the 700 of users  has seen \n",
    "moviesForUser = ratings.filter(lambda record :record[0]==700)\n",
    "print(moviesForUser.take(10))"
   ]
  },
  {
   "cell_type": "code",
   "execution_count": 16,
   "metadata": {},
   "outputs": [
    {
     "name": "stdout",
     "output_type": "stream",
     "text": [
      "[(700, 181, 5), (700, 50, 5), (700, 173, 5), (700, 144, 4), (700, 96, 4), (700, 531, 4), (700, 318, 4), (700, 423, 4), (700, 174, 4), (700, 48, 4)]\n",
      "----------------\n",
      "the movie name is :Return of the Jedi (1983) and the score is 5\n",
      "\n",
      "the movie name is :Star Wars (1977) and the score is 5\n",
      "\n",
      "the movie name is :Princess Bride, The (1987) and the score is 5\n",
      "\n",
      "the movie name is :Die Hard (1988) and the score is 4\n",
      "\n",
      "the movie name is :Terminator 2: Judgment Day (1991) and the score is 4\n",
      "\n",
      "the movie name is :Shine (1996) and the score is 4\n",
      "\n",
      "the movie name is :Schindler's List (1993) and the score is 4\n",
      "\n",
      "the movie name is :E.T. the Extra-Terrestrial (1982) and the score is 4\n",
      "\n",
      "the movie name is :Raiders of the Lost Ark (1981) and the score is 4\n",
      "\n",
      "the movie name is :Hoop Dreams (1994) and the score is 4\n",
      "\n"
     ]
    }
   ],
   "source": [
    "#select all the top 10 movies which the 700 of users  has seen \n",
    "topMovies = moviesForUser.takeOrdered(10,key=lambda record:-record[2])\n",
    "print(topMovies)\n",
    "print('----------------')\n",
    "for movieIP in topMovies:\n",
    "    print(\"the movie name is :\"+movieTitle[movieIP[1]]+\" and the score is \"+str(movieIP[2])+\"\\n\")"
   ]
  },
  {
   "cell_type": "code",
   "execution_count": 17,
   "metadata": {},
   "outputs": [
    {
     "data": {
      "text/plain": [
       "4.226843068482377"
      ]
     },
     "execution_count": 17,
     "metadata": {},
     "output_type": "execute_result"
    }
   ],
   "source": [
    "#To  test the accuracy of the model,we can use the  the 50 of moviesip to see the score that the model gives\n",
    "#we can see the 700 user has given the movie 5 score, that is the movie is good\n",
    "model.predict(700,50)"
   ]
  },
  {
   "cell_type": "code",
   "execution_count": 18,
   "metadata": {},
   "outputs": [
    {
     "name": "stdout",
     "output_type": "stream",
     "text": [
      "[Rating(user=700, product=1463, rating=4.69470663539797), Rating(user=700, product=1643, rating=4.486657542068889), Rating(user=700, product=50, rating=4.226843068482377), Rating(user=700, product=1450, rating=4.086120598089442), Rating(user=700, product=173, rating=4.073710003642283), Rating(user=700, product=174, rating=4.072545286455303), Rating(user=700, product=172, rating=4.055783087719616), Rating(user=700, product=1467, rating=4.025754443087971), Rating(user=700, product=478, rating=3.92729328020497), Rating(user=700, product=181, rating=3.9155933878713594)]\n",
      "---------------------------\n",
      "the movie name is :Boys, Les (1997)and the score is :4.6947066354\n",
      "\n",
      "the movie name is :Angel Baby (1995)and the score is :4.48665754207\n",
      "\n",
      "the movie name is :Star Wars (1977)and the score is :4.22684306848\n",
      "\n",
      "the movie name is :Golden Earrings (1947)and the score is :4.08612059809\n",
      "\n",
      "the movie name is :Princess Bride, The (1987)and the score is :4.07371000364\n",
      "\n",
      "the movie name is :Raiders of the Lost Ark (1981)and the score is :4.07254528646\n",
      "\n",
      "the movie name is :Empire Strikes Back, The (1980)and the score is :4.05578308772\n",
      "\n",
      "the movie name is :Saint of Fort Washington, The (1993)and the score is :4.02575444309\n",
      "\n",
      "the movie name is :Philadelphia Story, The (1940)and the score is :3.9272932802\n",
      "\n",
      "the movie name is :Return of the Jedi (1983)and the score is :3.91559338787\n",
      "\n"
     ]
    }
   ],
   "source": [
    "#Next , we use our model that has been trained to predict the top 10 movies of the 700 user likesP\n",
    "predictMovieIP = model.recommendProducts(700,10)\n",
    "print(predictMovieIP)\n",
    "print('---------------------------')\n",
    "for ip in predictMovieIP:\n",
    "    print(\"the movie name is :\"+movieTitle[ip[1]]+\"and the score is :\"+str(ip[2])+\"\\n\")"
   ]
  },
  {
   "cell_type": "code",
   "execution_count": 19,
   "metadata": {},
   "outputs": [
    {
     "name": "stdout",
     "output_type": "stream",
     "text": [
      "[5.0, 5.0, 5.0, 4.0, 4.0, 4.0, 4.0, 4.0, 4.0, 4.0]\n",
      "[3.9155933878713594, 4.226843068482377, 4.073710003642283, 3.5384808736091125, 3.5871671252680026, 3.193776359091941, 3.7966400027336262, 3.532404597687263, 4.072545286455303, 3.345111956975095]\n"
     ]
    }
   ],
   "source": [
    "#we will use \"Mean Squared Error\" (MSE) to evalute the model\n",
    "#of course ,\"the Root Mean Squared Error\" can also been used.\n",
    "#In fact ,there is no different !!!!!!!!!!!!!!!!!!!!!!!!\n",
    "realRatings = []\n",
    "predictRatings = []\n",
    "for movieIP in topMovies:\n",
    "    realRatings.append(float(movieIP[2]))\n",
    "    predictRatings.append(model.predict(700,movieIP[1]))\n",
    "print(realRatings)\n",
    "print(predictRatings)\n",
    "    "
   ]
  },
  {
   "cell_type": "code",
   "execution_count": 20,
   "metadata": {},
   "outputs": [
    {
     "name": "stdout",
     "output_type": "stream",
     "text": [
      "the MSE is :0.43592918604136444\n",
      "the RMSE is :0.660249336267\n"
     ]
    }
   ],
   "source": [
    "import math\n",
    "def MSE(vect1,vect2):\n",
    "    num = len(vect1)\n",
    "    vect1 = np.mat(vect1)\n",
    "    vect2 = np.mat(vect2)\n",
    "    return np.sum(np.power((vect1-vect2),2))/num\n",
    "resultMSE = MSE(realRatings,predictRatings)\n",
    "resultRMSE = math.sqrt(resultMSE)\n",
    "print(\"the MSE is :\"+str(resultMSE))\n",
    "print(\"the RMSE is :\"+str(resultRMSE))"
   ]
  },
  {
   "cell_type": "code",
   "execution_count": 21,
   "metadata": {},
   "outputs": [
    {
     "name": "stdout",
     "output_type": "stream",
     "text": [
      "[(3.9155933878713594, 5.0), (4.226843068482377, 5.0), (4.073710003642283, 5.0), (3.5384808736091125, 4.0), (3.5871671252680026, 4.0), (3.193776359091941, 4.0), (3.7966400027336262, 4.0), (3.532404597687263, 4.0), (4.072545286455303, 4.0), (3.345111956975095, 4.0)]\n"
     ]
    }
   ],
   "source": [
    "#of course,we can use pyspark to make it!!!!!!!!!!!\n",
    "realRatingsRDD = sc.parallelize(realRatings)\n",
    "predictRatingsRDD = sc.parallelize(predictRatings)\n",
    "predictAndRealRDD = predictRatingsRDD.zip(realRatingsRDD)\n",
    "print(predictAndRealRDD.collect())"
   ]
  },
  {
   "cell_type": "code",
   "execution_count": 22,
   "metadata": {},
   "outputs": [
    {
     "name": "stdout",
     "output_type": "stream",
     "text": [
      "the MSE is :0.435929186041\n",
      "the RMSE is :0.660249336267\n"
     ]
    }
   ],
   "source": [
    "resultMSE = predictAndRealRDD.map(lambda record:(record[0]-record[1])**2).mean()\n",
    "resultRMSE =sc.parallelize([resultMSE]).map(lambda record :math.sqrt(record)).collect()\n",
    "print(\"the MSE is :\"+str(resultMSE))\n",
    "print(\"the RMSE is :\"+str(resultRMSE[0]))"
   ]
  },
  {
   "cell_type": "code",
   "execution_count": 24,
   "metadata": {},
   "outputs": [
    {
     "name": "stdout",
     "output_type": "stream",
     "text": [
      "the MSE is :0.435929186041\n",
      "\n",
      "the RMSE is :0.660249336267\n",
      "\n"
     ]
    }
   ],
   "source": [
    "#There is also Build-in evalutation function in pyspark\n",
    "#predictionAndLabel RDD of (predicted1 , label1) ,(predicted2 , label2),(predicted3 , label3),...\n",
    "#so predicted.dimension must be equal to the label.dimension\n",
    "from pyspark.mllib.evaluation import RegressionMetrics,RankingMetrics\n",
    "metrics = RegressionMetrics(predictAndRealRDD)\n",
    "print(\"the MSE is :\"+str(metrics.meanSquaredError)+\"\\n\")\n",
    "print(\"the RMSE is :\"+str(metrics.rootMeanSquaredError)+\"\\n\")"
   ]
  },
  {
   "cell_type": "code",
   "execution_count": 53,
   "metadata": {},
   "outputs": [
    {
     "name": "stdout",
     "output_type": "stream",
     "text": [
      "[181, 144, 96, 50, 79, 180, 168, 28, 222, 531, 318, 423, 169, 73, 174, 173, 48, 202, 56, 651, 98]\n",
      "[1463, 1643, 50, 1450, 173, 174, 172, 1467, 478, 181]\n"
     ]
    }
   ],
   "source": [
    "#Next,we can also use the \"Mean Average Precision\" (MAP) to calculate \n",
    "realmovies=moviesForUser.map(lambda record :record[1]).collect()\n",
    "predictmovies = sc.parallelize(predictMovieIP).map(lambda record:record[1]).collect()\n",
    "print(realmovies)\n",
    "print(predictmovies)"
   ]
  },
  {
   "cell_type": "code",
   "execution_count": 62,
   "metadata": {},
   "outputs": [
    {
     "name": "stdout",
     "output_type": "stream",
     "text": [
      "0.163333333333\n"
     ]
    }
   ],
   "source": [
    "def MAP(pre,real,k):\n",
    "    prek = sc.parallelize(pre).take(k)\n",
    "    score = 0.0\n",
    "    numHits = 0.0\n",
    "    for (ip,movip) in  enumerate(prek):\n",
    "        if movip in real:\n",
    "            numHits+=1.0\n",
    "            score+=numHits/float(ip+1.0)\n",
    "    if len(real)==0:\n",
    "        return 1.0\n",
    "    else:\n",
    "        return score/min(len(real),k)\n",
    "resultMAP = MAP(predictmovies,realmovies,10)\n",
    "print(resultMAP)"
   ]
  },
  {
   "cell_type": "code",
   "execution_count": null,
   "metadata": {},
   "outputs": [],
   "source": [
    "#Of course,there is also Build-in evalutation function in pyspark about MAP\n",
    "#predictionAndLabel RDD of (predict Array ,label Array) pairs\n",
    "#the dimension of predict does not have to be equal to the dimension of label\n",
    "\n",
    "rankMetrics = RankingMetrics(predictmoviesAndRealmoviesRDD)\n",
    "print(\"the MAP is:\"+str(rankMetrics.meanAveragePrecision))"
   ]
  },
  {
   "cell_type": "code",
   "execution_count": null,
   "metadata": {},
   "outputs": [],
   "source": []
  }
 ],
 "metadata": {
  "kernelspec": {
   "display_name": "Python 2",
   "language": "python",
   "name": "python2"
  },
  "language_info": {
   "codemirror_mode": {
    "name": "ipython",
    "version": 2
   },
   "file_extension": ".py",
   "mimetype": "text/x-python",
   "name": "python",
   "nbconvert_exporter": "python",
   "pygments_lexer": "ipython2",
   "version": "2.7.15rc1"
  }
 },
 "nbformat": 4,
 "nbformat_minor": 2
}
